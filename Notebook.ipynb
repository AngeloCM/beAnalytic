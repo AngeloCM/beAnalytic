{
 "cells": [
  {
   "cell_type": "code",
   "execution_count": 28,
   "metadata": {},
   "outputs": [],
   "source": [
    "import Data.data as d\n",
    "import Plotting.plotting_functions as pf\n",
    "import pandas as pd\n",
    "import numpy as np\n",
    "import seaborn as sns\n",
    "import matplotlib.pyplot as plt\n",
    "\n",
    "from sklearn.preprocessing import OneHotEncoder\n",
    "from sklearn.model_selection import train_test_split, cross_val_score\n",
    "from sklearn.linear_model import LinearRegression\n",
    "from sklearn.ensemble import RandomForestRegressor\n",
    "from xgboost import XGBRegressor\n",
    "from sklearn.metrics import mean_absolute_error\n",
    "from sklearn.model_selection import KFold\n",
    "\n",
    "import joblib"
   ]
  },
  {
   "cell_type": "markdown",
   "metadata": {},
   "source": [
    "# Introdução"
   ]
  },
  {
   "cell_type": "markdown",
   "metadata": {},
   "source": [
    "**Contexto do Desafio:**\n",
    "\n",
    "- Uma empresa líder no setor de distribuição gerencia múltiplos centros de distribuição e uma vasta gama de produtos. Com a expansão contínua e o aumento da complexidade das operações, a empresa busca integrar soluções de Machine Learning para melhorar a eficiência logística em várias frentes. \n",
    "\n",
    "**Foco**\n",
    "\n",
    "- Otimizar o armazenamento e a distribuição de produtos.\n",
    "\n",
    "**Objetivo**\n",
    "\n",
    "- Criar um sistema que determine os tamanhos ideais de embalagens para diferentes produtos para reduzir o desperdício de material e custos de transporte."
   ]
  },
  {
   "cell_type": "markdown",
   "metadata": {},
   "source": [
    "## Dados"
   ]
  },
  {
   "cell_type": "code",
   "execution_count": 2,
   "metadata": {},
   "outputs": [],
   "source": [
    "df = d.gerar_dados()"
   ]
  },
  {
   "cell_type": "code",
   "execution_count": 3,
   "metadata": {},
   "outputs": [
    {
     "data": {
      "text/html": [
       "<div>\n",
       "<style scoped>\n",
       "    .dataframe tbody tr th:only-of-type {\n",
       "        vertical-align: middle;\n",
       "    }\n",
       "\n",
       "    .dataframe tbody tr th {\n",
       "        vertical-align: top;\n",
       "    }\n",
       "\n",
       "    .dataframe thead th {\n",
       "        text-align: right;\n",
       "    }\n",
       "</style>\n",
       "<table border=\"1\" class=\"dataframe\">\n",
       "  <thead>\n",
       "    <tr style=\"text-align: right;\">\n",
       "      <th></th>\n",
       "      <th>ID do Produto</th>\n",
       "      <th>Altura(cm)</th>\n",
       "      <th>Largura(cm)</th>\n",
       "      <th>Profundidade(cm)</th>\n",
       "      <th>Peso do Produto(kg)</th>\n",
       "      <th>Material de Embalagem</th>\n",
       "      <th>Custo por Unidade de Material</th>\n",
       "      <th>Volume de Vendas</th>\n",
       "    </tr>\n",
       "  </thead>\n",
       "  <tbody>\n",
       "    <tr>\n",
       "      <th>0</th>\n",
       "      <td>1</td>\n",
       "      <td>23.765990</td>\n",
       "      <td>19.699021</td>\n",
       "      <td>47.757925</td>\n",
       "      <td>20.390538</td>\n",
       "      <td>Papelão</td>\n",
       "      <td>0.984176</td>\n",
       "      <td>567</td>\n",
       "    </tr>\n",
       "    <tr>\n",
       "      <th>1</th>\n",
       "      <td>2</td>\n",
       "      <td>37.414602</td>\n",
       "      <td>28.717615</td>\n",
       "      <td>30.049393</td>\n",
       "      <td>21.936560</td>\n",
       "      <td>Papelão</td>\n",
       "      <td>0.339975</td>\n",
       "      <td>395</td>\n",
       "    </tr>\n",
       "    <tr>\n",
       "      <th>2</th>\n",
       "      <td>3</td>\n",
       "      <td>5.005147</td>\n",
       "      <td>44.867394</td>\n",
       "      <td>46.202286</td>\n",
       "      <td>17.366125</td>\n",
       "      <td>Plástico</td>\n",
       "      <td>0.580288</td>\n",
       "      <td>966</td>\n",
       "    </tr>\n",
       "    <tr>\n",
       "      <th>3</th>\n",
       "      <td>4</td>\n",
       "      <td>18.604966</td>\n",
       "      <td>21.077139</td>\n",
       "      <td>33.870479</td>\n",
       "      <td>14.452613</td>\n",
       "      <td>Isopor</td>\n",
       "      <td>0.383020</td>\n",
       "      <td>227</td>\n",
       "    </tr>\n",
       "    <tr>\n",
       "      <th>4</th>\n",
       "      <td>5</td>\n",
       "      <td>11.604015</td>\n",
       "      <td>45.884082</td>\n",
       "      <td>22.550347</td>\n",
       "      <td>4.443800</td>\n",
       "      <td>Papelão</td>\n",
       "      <td>0.919696</td>\n",
       "      <td>371</td>\n",
       "    </tr>\n",
       "    <tr>\n",
       "      <th>...</th>\n",
       "      <td>...</td>\n",
       "      <td>...</td>\n",
       "      <td>...</td>\n",
       "      <td>...</td>\n",
       "      <td>...</td>\n",
       "      <td>...</td>\n",
       "      <td>...</td>\n",
       "      <td>...</td>\n",
       "    </tr>\n",
       "    <tr>\n",
       "      <th>95</th>\n",
       "      <td>96</td>\n",
       "      <td>15.666214</td>\n",
       "      <td>46.938743</td>\n",
       "      <td>8.069421</td>\n",
       "      <td>21.174091</td>\n",
       "      <td>Plástico</td>\n",
       "      <td>0.567174</td>\n",
       "      <td>314</td>\n",
       "    </tr>\n",
       "    <tr>\n",
       "      <th>96</th>\n",
       "      <td>97</td>\n",
       "      <td>45.652078</td>\n",
       "      <td>5.627821</td>\n",
       "      <td>22.006588</td>\n",
       "      <td>9.834895</td>\n",
       "      <td>Papelão</td>\n",
       "      <td>0.828990</td>\n",
       "      <td>357</td>\n",
       "    </tr>\n",
       "    <tr>\n",
       "      <th>97</th>\n",
       "      <td>98</td>\n",
       "      <td>30.815577</td>\n",
       "      <td>15.546294</td>\n",
       "      <td>8.583173</td>\n",
       "      <td>18.871529</td>\n",
       "      <td>Plástico</td>\n",
       "      <td>0.111343</td>\n",
       "      <td>172</td>\n",
       "    </tr>\n",
       "    <tr>\n",
       "      <th>98</th>\n",
       "      <td>99</td>\n",
       "      <td>5.129165</td>\n",
       "      <td>32.755026</td>\n",
       "      <td>49.226770</td>\n",
       "      <td>13.022966</td>\n",
       "      <td>Isopor</td>\n",
       "      <td>0.705223</td>\n",
       "      <td>407</td>\n",
       "    </tr>\n",
       "    <tr>\n",
       "      <th>99</th>\n",
       "      <td>100</td>\n",
       "      <td>32.771521</td>\n",
       "      <td>47.705734</td>\n",
       "      <td>13.172578</td>\n",
       "      <td>13.753319</td>\n",
       "      <td>Papelão</td>\n",
       "      <td>0.718127</td>\n",
       "      <td>555</td>\n",
       "    </tr>\n",
       "  </tbody>\n",
       "</table>\n",
       "<p>100 rows × 8 columns</p>\n",
       "</div>"
      ],
      "text/plain": [
       "    ID do Produto  Altura(cm)  Largura(cm)  Profundidade(cm)  \\\n",
       "0               1   23.765990    19.699021         47.757925   \n",
       "1               2   37.414602    28.717615         30.049393   \n",
       "2               3    5.005147    44.867394         46.202286   \n",
       "3               4   18.604966    21.077139         33.870479   \n",
       "4               5   11.604015    45.884082         22.550347   \n",
       "..            ...         ...          ...               ...   \n",
       "95             96   15.666214    46.938743          8.069421   \n",
       "96             97   45.652078     5.627821         22.006588   \n",
       "97             98   30.815577    15.546294          8.583173   \n",
       "98             99    5.129165    32.755026         49.226770   \n",
       "99            100   32.771521    47.705734         13.172578   \n",
       "\n",
       "    Peso do Produto(kg) Material de Embalagem  Custo por Unidade de Material  \\\n",
       "0             20.390538               Papelão                       0.984176   \n",
       "1             21.936560               Papelão                       0.339975   \n",
       "2             17.366125              Plástico                       0.580288   \n",
       "3             14.452613                Isopor                       0.383020   \n",
       "4              4.443800               Papelão                       0.919696   \n",
       "..                  ...                   ...                            ...   \n",
       "95            21.174091              Plástico                       0.567174   \n",
       "96             9.834895               Papelão                       0.828990   \n",
       "97            18.871529              Plástico                       0.111343   \n",
       "98            13.022966                Isopor                       0.705223   \n",
       "99            13.753319               Papelão                       0.718127   \n",
       "\n",
       "    Volume de Vendas  \n",
       "0                567  \n",
       "1                395  \n",
       "2                966  \n",
       "3                227  \n",
       "4                371  \n",
       "..               ...  \n",
       "95               314  \n",
       "96               357  \n",
       "97               172  \n",
       "98               407  \n",
       "99               555  \n",
       "\n",
       "[100 rows x 8 columns]"
      ]
     },
     "execution_count": 3,
     "metadata": {},
     "output_type": "execute_result"
    }
   ],
   "source": [
    "df"
   ]
  },
  {
   "cell_type": "markdown",
   "metadata": {},
   "source": [
    "Verificando valores nulos e duplicados antes de proceder à análise."
   ]
  },
  {
   "cell_type": "code",
   "execution_count": 4,
   "metadata": {},
   "outputs": [
    {
     "data": {
      "text/plain": [
       "0"
      ]
     },
     "execution_count": 4,
     "metadata": {},
     "output_type": "execute_result"
    }
   ],
   "source": [
    "df.duplicated().sum()"
   ]
  },
  {
   "cell_type": "code",
   "execution_count": 5,
   "metadata": {},
   "outputs": [
    {
     "data": {
      "text/plain": [
       "ID do Produto                    0\n",
       "Altura(cm)                       0\n",
       "Largura(cm)                      0\n",
       "Profundidade(cm)                 0\n",
       "Peso do Produto(kg)              0\n",
       "Material de Embalagem            0\n",
       "Custo por Unidade de Material    0\n",
       "Volume de Vendas                 0\n",
       "dtype: int64"
      ]
     },
     "execution_count": 5,
     "metadata": {},
     "output_type": "execute_result"
    }
   ],
   "source": [
    "df.isna().sum()"
   ]
  },
  {
   "cell_type": "markdown",
   "metadata": {},
   "source": [
    "Diante dessas informações, podemos prosseguir com a análise para entender um pouco mais dos dados fornecidos."
   ]
  },
  {
   "cell_type": "markdown",
   "metadata": {},
   "source": [
    "## Análise Exploratória dos Dados"
   ]
  },
  {
   "cell_type": "markdown",
   "metadata": {},
   "source": [
    "Nessa parte, tentaremos entender um pouco sobre os dados fornecidos."
   ]
  },
  {
   "cell_type": "code",
   "execution_count": 6,
   "metadata": {},
   "outputs": [
    {
     "data": {
      "text/html": [
       "<div>\n",
       "<style scoped>\n",
       "    .dataframe tbody tr th:only-of-type {\n",
       "        vertical-align: middle;\n",
       "    }\n",
       "\n",
       "    .dataframe tbody tr th {\n",
       "        vertical-align: top;\n",
       "    }\n",
       "\n",
       "    .dataframe thead th {\n",
       "        text-align: right;\n",
       "    }\n",
       "</style>\n",
       "<table border=\"1\" class=\"dataframe\">\n",
       "  <thead>\n",
       "    <tr style=\"text-align: right;\">\n",
       "      <th></th>\n",
       "      <th>ID do Produto</th>\n",
       "      <th>Altura(cm)</th>\n",
       "      <th>Largura(cm)</th>\n",
       "      <th>Profundidade(cm)</th>\n",
       "      <th>Peso do Produto(kg)</th>\n",
       "      <th>Custo por Unidade de Material</th>\n",
       "      <th>Volume de Vendas</th>\n",
       "    </tr>\n",
       "  </thead>\n",
       "  <tbody>\n",
       "    <tr>\n",
       "      <th>count</th>\n",
       "      <td>100.000000</td>\n",
       "      <td>100.000000</td>\n",
       "      <td>100.000000</td>\n",
       "      <td>100.000000</td>\n",
       "      <td>100.000000</td>\n",
       "      <td>100.000000</td>\n",
       "      <td>100.000000</td>\n",
       "    </tr>\n",
       "    <tr>\n",
       "      <th>mean</th>\n",
       "      <td>50.500000</td>\n",
       "      <td>26.864507</td>\n",
       "      <td>26.817757</td>\n",
       "      <td>29.961995</td>\n",
       "      <td>12.997766</td>\n",
       "      <td>0.545918</td>\n",
       "      <td>506.460000</td>\n",
       "    </tr>\n",
       "    <tr>\n",
       "      <th>std</th>\n",
       "      <td>29.011492</td>\n",
       "      <td>13.314811</td>\n",
       "      <td>14.302286</td>\n",
       "      <td>12.520033</td>\n",
       "      <td>6.903709</td>\n",
       "      <td>0.262223</td>\n",
       "      <td>262.892513</td>\n",
       "    </tr>\n",
       "    <tr>\n",
       "      <th>min</th>\n",
       "      <td>1.000000</td>\n",
       "      <td>5.005147</td>\n",
       "      <td>5.565019</td>\n",
       "      <td>5.018091</td>\n",
       "      <td>1.047095</td>\n",
       "      <td>0.108414</td>\n",
       "      <td>101.000000</td>\n",
       "    </tr>\n",
       "    <tr>\n",
       "      <th>25%</th>\n",
       "      <td>25.750000</td>\n",
       "      <td>14.442537</td>\n",
       "      <td>13.771881</td>\n",
       "      <td>20.497507</td>\n",
       "      <td>6.742854</td>\n",
       "      <td>0.335645</td>\n",
       "      <td>263.000000</td>\n",
       "    </tr>\n",
       "    <tr>\n",
       "      <th>50%</th>\n",
       "      <td>50.500000</td>\n",
       "      <td>26.183419</td>\n",
       "      <td>29.834829</td>\n",
       "      <td>30.812000</td>\n",
       "      <td>13.544615</td>\n",
       "      <td>0.550796</td>\n",
       "      <td>496.500000</td>\n",
       "    </tr>\n",
       "    <tr>\n",
       "      <th>75%</th>\n",
       "      <td>75.250000</td>\n",
       "      <td>37.478429</td>\n",
       "      <td>38.886607</td>\n",
       "      <td>41.155743</td>\n",
       "      <td>18.887526</td>\n",
       "      <td>0.748164</td>\n",
       "      <td>745.250000</td>\n",
       "    </tr>\n",
       "    <tr>\n",
       "      <th>max</th>\n",
       "      <td>100.000000</td>\n",
       "      <td>49.498749</td>\n",
       "      <td>49.879528</td>\n",
       "      <td>49.226770</td>\n",
       "      <td>24.850869</td>\n",
       "      <td>0.997078</td>\n",
       "      <td>979.000000</td>\n",
       "    </tr>\n",
       "  </tbody>\n",
       "</table>\n",
       "</div>"
      ],
      "text/plain": [
       "       ID do Produto  Altura(cm)  Largura(cm)  Profundidade(cm)  \\\n",
       "count     100.000000  100.000000   100.000000        100.000000   \n",
       "mean       50.500000   26.864507    26.817757         29.961995   \n",
       "std        29.011492   13.314811    14.302286         12.520033   \n",
       "min         1.000000    5.005147     5.565019          5.018091   \n",
       "25%        25.750000   14.442537    13.771881         20.497507   \n",
       "50%        50.500000   26.183419    29.834829         30.812000   \n",
       "75%        75.250000   37.478429    38.886607         41.155743   \n",
       "max       100.000000   49.498749    49.879528         49.226770   \n",
       "\n",
       "       Peso do Produto(kg)  Custo por Unidade de Material  Volume de Vendas  \n",
       "count           100.000000                     100.000000        100.000000  \n",
       "mean             12.997766                       0.545918        506.460000  \n",
       "std               6.903709                       0.262223        262.892513  \n",
       "min               1.047095                       0.108414        101.000000  \n",
       "25%               6.742854                       0.335645        263.000000  \n",
       "50%              13.544615                       0.550796        496.500000  \n",
       "75%              18.887526                       0.748164        745.250000  \n",
       "max              24.850869                       0.997078        979.000000  "
      ]
     },
     "execution_count": 6,
     "metadata": {},
     "output_type": "execute_result"
    }
   ],
   "source": [
    "df.describe()"
   ]
  },
  {
   "cell_type": "markdown",
   "metadata": {},
   "source": [
    "### **Total de Produtos por Material**"
   ]
  },
  {
   "cell_type": "code",
   "execution_count": 7,
   "metadata": {},
   "outputs": [
    {
     "data": {
      "image/png": "[encoded data removed]",
      "text/plain": [
       "<Figure size 640x480 with 1 Axes>"
      ]
     },
     "metadata": {},
     "output_type": "display_data"
    }
   ],
   "source": [
    "produtor_material = df.groupby('Material de Embalagem').count()['ID do Produto']\n",
    "\n",
    "ax = sns.barplot(produtor_material)\n",
    "pf.add_percentage_to_plot(ax)"
   ]
  },
  {
   "cell_type": "markdown",
   "metadata": {},
   "source": [
    "### **Máximo de Vendas por Material**"
   ]
  },
  {
   "cell_type": "code",
   "execution_count": 8,
   "metadata": {},
   "outputs": [
    {
     "data": {
      "image/png": "[encoded data removed]",
      "text/plain": [
       "<Figure size 640x480 with 1 Axes>"
      ]
     },
     "metadata": {},
     "output_type": "display_data"
    }
   ],
   "source": [
    "max_vendas = df.groupby('Material de Embalagem').sum()['Volume de Vendas']\n",
    "\n",
    "ax = sns.barplot(max_vendas)\n",
    "pf.add_percentage_to_plot(ax)"
   ]
  },
  {
   "cell_type": "markdown",
   "metadata": {},
   "source": [
    "### **Maior Custo por Unidade por Material**"
   ]
  },
  {
   "cell_type": "code",
   "execution_count": 9,
   "metadata": {},
   "outputs": [
    {
     "data": {
      "image/png": "[encoded data removed]",
      "text/plain": [
       "<Figure size 640x480 with 1 Axes>"
      ]
     },
     "metadata": {},
     "output_type": "display_data"
    }
   ],
   "source": [
    "maior_custo = df.groupby('Material de Embalagem').sum()['Custo por Unidade de Material']\n",
    "\n",
    "ax = sns.barplot(maior_custo)\n",
    "pf.add_percentage_to_plot(ax)"
   ]
  },
  {
   "cell_type": "markdown",
   "metadata": {},
   "source": [
    "### **Feature Engineering**"
   ]
  },
  {
   "cell_type": "markdown",
   "metadata": {},
   "source": [
    "**Calcula o volume ideal da embalagem com margem de proteção**"
   ]
  },
  {
   "cell_type": "code",
   "execution_count": 10,
   "metadata": {},
   "outputs": [],
   "source": [
    "#Adicionando 10% ao volume relacionado à proteçao;\n",
    "df = d.calcular_volume_com_protecao(df, 0.1)"
   ]
  },
  {
   "cell_type": "markdown",
   "metadata": {},
   "source": [
    "**Calcula o peso total (produto + embalagem estimada)**"
   ]
  },
  {
   "cell_type": "code",
   "execution_count": 11,
   "metadata": {},
   "outputs": [],
   "source": [
    "#Adicionando 1% ao peso relacionado à proteçao;\n",
    "df = d.calcular_peso_total(df, 0.01)"
   ]
  },
  {
   "cell_type": "markdown",
   "metadata": {},
   "source": [
    "**Distribuição do Volume Ideal dos Produtos**"
   ]
  },
  {
   "cell_type": "code",
   "execution_count": 13,
   "metadata": {},
   "outputs": [
    {
     "data": {
      "image/png": "[encoded data removed]",
      "text/plain": [
       "<Figure size 640x480 with 1 Axes>"
      ]
     },
     "metadata": {},
     "output_type": "display_data"
    }
   ],
   "source": [
    "sns.kdeplot(df['Volume_Produto_Ideal(cm3)'])\n",
    "plt.show()"
   ]
  },
  {
   "cell_type": "markdown",
   "metadata": {},
   "source": [
    "**Tamanhos De Caixas**"
   ]
  },
  {
   "cell_type": "code",
   "execution_count": 14,
   "metadata": {},
   "outputs": [],
   "source": [
    "num_bins = 10\n",
    "\n",
    "# Create bins based on min and max of the feature\n",
    "bin_labels = [f'Bin_{i}' for i in range(1, num_bins+1)]\n",
    "df['Caixa_Ideal'] = pd.cut(df['Volume_Produto_Ideal(cm3)'], bins=num_bins, labels=bin_labels)"
   ]
  },
  {
   "cell_type": "code",
   "execution_count": 15,
   "metadata": {},
   "outputs": [
    {
     "data": {
      "text/plain": [
       "Caixa_Ideal\n",
       "Bin_1     35\n",
       "Bin_2     18\n",
       "Bin_3     15\n",
       "Bin_4     11\n",
       "Bin_5      8\n",
       "Bin_6      2\n",
       "Bin_7      2\n",
       "Bin_8      7\n",
       "Bin_9      0\n",
       "Bin_10     2\n",
       "Name: ID do Produto, dtype: int64"
      ]
     },
     "execution_count": 15,
     "metadata": {},
     "output_type": "execute_result"
    }
   ],
   "source": [
    "df.groupby(by='Caixa_Ideal', observed=False)['ID do Produto'].count()"
   ]
  },
  {
   "cell_type": "code",
   "execution_count": 27,
   "metadata": {},
   "outputs": [
    {
     "data": {
      "text/html": [
       "<div>\n",
       "<style scoped>\n",
       "    .dataframe tbody tr th:only-of-type {\n",
       "        vertical-align: middle;\n",
       "    }\n",
       "\n",
       "    .dataframe tbody tr th {\n",
       "        vertical-align: top;\n",
       "    }\n",
       "\n",
       "    .dataframe thead th {\n",
       "        text-align: right;\n",
       "    }\n",
       "</style>\n",
       "<table border=\"1\" class=\"dataframe\">\n",
       "  <thead>\n",
       "    <tr style=\"text-align: right;\">\n",
       "      <th></th>\n",
       "      <th>ID do Produto</th>\n",
       "      <th>Altura(cm)</th>\n",
       "      <th>Largura(cm)</th>\n",
       "      <th>Profundidade(cm)</th>\n",
       "      <th>Peso do Produto(kg)</th>\n",
       "      <th>Material de Embalagem</th>\n",
       "      <th>Custo por Unidade de Material</th>\n",
       "      <th>Volume de Vendas</th>\n",
       "      <th>Volume_Produto_Ideal(cm3)</th>\n",
       "      <th>Peso_Total</th>\n",
       "      <th>Caixa_Ideal</th>\n",
       "    </tr>\n",
       "  </thead>\n",
       "  <tbody>\n",
       "    <tr>\n",
       "      <th>70</th>\n",
       "      <td>71</td>\n",
       "      <td>45.653086</td>\n",
       "      <td>19.281308</td>\n",
       "      <td>23.066581</td>\n",
       "      <td>9.214777</td>\n",
       "      <td>Papelão</td>\n",
       "      <td>0.701859</td>\n",
       "      <td>444</td>\n",
       "      <td>22334.825304</td>\n",
       "      <td>9.306924</td>\n",
       "      <td>Bin_3</td>\n",
       "    </tr>\n",
       "    <tr>\n",
       "      <th>98</th>\n",
       "      <td>99</td>\n",
       "      <td>5.129165</td>\n",
       "      <td>32.755026</td>\n",
       "      <td>49.226770</td>\n",
       "      <td>13.022966</td>\n",
       "      <td>Isopor</td>\n",
       "      <td>0.705223</td>\n",
       "      <td>407</td>\n",
       "      <td>9097.427898</td>\n",
       "      <td>13.153196</td>\n",
       "      <td>Bin_1</td>\n",
       "    </tr>\n",
       "    <tr>\n",
       "      <th>79</th>\n",
       "      <td>80</td>\n",
       "      <td>37.669909</td>\n",
       "      <td>21.653789</td>\n",
       "      <td>40.893746</td>\n",
       "      <td>5.121602</td>\n",
       "      <td>Isopor</td>\n",
       "      <td>0.109800</td>\n",
       "      <td>217</td>\n",
       "      <td>36692.563620</td>\n",
       "      <td>5.172818</td>\n",
       "      <td>Bin_4</td>\n",
       "    </tr>\n",
       "    <tr>\n",
       "      <th>43</th>\n",
       "      <td>44</td>\n",
       "      <td>40.517570</td>\n",
       "      <td>10.460456</td>\n",
       "      <td>13.280459</td>\n",
       "      <td>21.425828</td>\n",
       "      <td>Isopor</td>\n",
       "      <td>0.316320</td>\n",
       "      <td>195</td>\n",
       "      <td>6191.555330</td>\n",
       "      <td>21.640087</td>\n",
       "      <td>Bin_1</td>\n",
       "    </tr>\n",
       "    <tr>\n",
       "      <th>11</th>\n",
       "      <td>12</td>\n",
       "      <td>35.834878</td>\n",
       "      <td>11.171109</td>\n",
       "      <td>48.346814</td>\n",
       "      <td>22.786070</td>\n",
       "      <td>Isopor</td>\n",
       "      <td>0.901917</td>\n",
       "      <td>869</td>\n",
       "      <td>21289.366890</td>\n",
       "      <td>23.013931</td>\n",
       "      <td>Bin_3</td>\n",
       "    </tr>\n",
       "  </tbody>\n",
       "</table>\n",
       "</div>"
      ],
      "text/plain": [
       "    ID do Produto  Altura(cm)  Largura(cm)  Profundidade(cm)  \\\n",
       "70             71   45.653086    19.281308         23.066581   \n",
       "98             99    5.129165    32.755026         49.226770   \n",
       "79             80   37.669909    21.653789         40.893746   \n",
       "43             44   40.517570    10.460456         13.280459   \n",
       "11             12   35.834878    11.171109         48.346814   \n",
       "\n",
       "    Peso do Produto(kg) Material de Embalagem  Custo por Unidade de Material  \\\n",
       "70             9.214777               Papelão                       0.701859   \n",
       "98            13.022966                Isopor                       0.705223   \n",
       "79             5.121602                Isopor                       0.109800   \n",
       "43            21.425828                Isopor                       0.316320   \n",
       "11            22.786070                Isopor                       0.901917   \n",
       "\n",
       "    Volume de Vendas  Volume_Produto_Ideal(cm3)  Peso_Total Caixa_Ideal  \n",
       "70               444               22334.825304    9.306924       Bin_3  \n",
       "98               407                9097.427898   13.153196       Bin_1  \n",
       "79               217               36692.563620    5.172818       Bin_4  \n",
       "43               195                6191.555330   21.640087       Bin_1  \n",
       "11               869               21289.366890   23.013931       Bin_3  "
      ]
     },
     "execution_count": 27,
     "metadata": {},
     "output_type": "execute_result"
    }
   ],
   "source": [
    "df.sample(5)"
   ]
  },
  {
   "cell_type": "markdown",
   "metadata": {},
   "source": [
    "### **Pré-processamento dos Dados**"
   ]
  },
  {
   "cell_type": "code",
   "execution_count": 16,
   "metadata": {},
   "outputs": [
    {
     "data": {
      "text/html": [
       "<div>\n",
       "<style scoped>\n",
       "    .dataframe tbody tr th:only-of-type {\n",
       "        vertical-align: middle;\n",
       "    }\n",
       "\n",
       "    .dataframe tbody tr th {\n",
       "        vertical-align: top;\n",
       "    }\n",
       "\n",
       "    .dataframe thead th {\n",
       "        text-align: right;\n",
       "    }\n",
       "</style>\n",
       "<table border=\"1\" class=\"dataframe\">\n",
       "  <thead>\n",
       "    <tr style=\"text-align: right;\">\n",
       "      <th></th>\n",
       "      <th>ID do Produto</th>\n",
       "      <th>Altura(cm)</th>\n",
       "      <th>Largura(cm)</th>\n",
       "      <th>Profundidade(cm)</th>\n",
       "      <th>Peso do Produto(kg)</th>\n",
       "      <th>Custo por Unidade de Material</th>\n",
       "      <th>Volume de Vendas</th>\n",
       "      <th>Volume_Produto_Ideal(cm3)</th>\n",
       "      <th>Peso_Total</th>\n",
       "      <th>Material de Embalagem_Isopor</th>\n",
       "      <th>...</th>\n",
       "      <th>Material de Embalagem_Plástico</th>\n",
       "      <th>Caixa_Ideal_Bin_1</th>\n",
       "      <th>Caixa_Ideal_Bin_10</th>\n",
       "      <th>Caixa_Ideal_Bin_2</th>\n",
       "      <th>Caixa_Ideal_Bin_3</th>\n",
       "      <th>Caixa_Ideal_Bin_4</th>\n",
       "      <th>Caixa_Ideal_Bin_5</th>\n",
       "      <th>Caixa_Ideal_Bin_6</th>\n",
       "      <th>Caixa_Ideal_Bin_7</th>\n",
       "      <th>Caixa_Ideal_Bin_8</th>\n",
       "    </tr>\n",
       "  </thead>\n",
       "  <tbody>\n",
       "    <tr>\n",
       "      <th>0</th>\n",
       "      <td>1</td>\n",
       "      <td>23.765990</td>\n",
       "      <td>19.699021</td>\n",
       "      <td>47.757925</td>\n",
       "      <td>20.390538</td>\n",
       "      <td>0.984176</td>\n",
       "      <td>567</td>\n",
       "      <td>24594.538940</td>\n",
       "      <td>20.594443</td>\n",
       "      <td>0.0</td>\n",
       "      <td>...</td>\n",
       "      <td>0.0</td>\n",
       "      <td>0.0</td>\n",
       "      <td>0.0</td>\n",
       "      <td>0.0</td>\n",
       "      <td>1.0</td>\n",
       "      <td>0.0</td>\n",
       "      <td>0.0</td>\n",
       "      <td>0.0</td>\n",
       "      <td>0.0</td>\n",
       "      <td>0.0</td>\n",
       "    </tr>\n",
       "    <tr>\n",
       "      <th>1</th>\n",
       "      <td>2</td>\n",
       "      <td>37.414602</td>\n",
       "      <td>28.717615</td>\n",
       "      <td>30.049393</td>\n",
       "      <td>21.936560</td>\n",
       "      <td>0.339975</td>\n",
       "      <td>395</td>\n",
       "      <td>35515.496513</td>\n",
       "      <td>22.155926</td>\n",
       "      <td>0.0</td>\n",
       "      <td>...</td>\n",
       "      <td>0.0</td>\n",
       "      <td>0.0</td>\n",
       "      <td>0.0</td>\n",
       "      <td>0.0</td>\n",
       "      <td>0.0</td>\n",
       "      <td>1.0</td>\n",
       "      <td>0.0</td>\n",
       "      <td>0.0</td>\n",
       "      <td>0.0</td>\n",
       "      <td>0.0</td>\n",
       "    </tr>\n",
       "    <tr>\n",
       "      <th>2</th>\n",
       "      <td>3</td>\n",
       "      <td>5.005147</td>\n",
       "      <td>44.867394</td>\n",
       "      <td>46.202286</td>\n",
       "      <td>17.366125</td>\n",
       "      <td>0.580288</td>\n",
       "      <td>966</td>\n",
       "      <td>11413.105253</td>\n",
       "      <td>17.539786</td>\n",
       "      <td>0.0</td>\n",
       "      <td>...</td>\n",
       "      <td>1.0</td>\n",
       "      <td>0.0</td>\n",
       "      <td>0.0</td>\n",
       "      <td>1.0</td>\n",
       "      <td>0.0</td>\n",
       "      <td>0.0</td>\n",
       "      <td>0.0</td>\n",
       "      <td>0.0</td>\n",
       "      <td>0.0</td>\n",
       "      <td>0.0</td>\n",
       "    </tr>\n",
       "    <tr>\n",
       "      <th>3</th>\n",
       "      <td>4</td>\n",
       "      <td>18.604966</td>\n",
       "      <td>21.077139</td>\n",
       "      <td>33.870479</td>\n",
       "      <td>14.452613</td>\n",
       "      <td>0.383020</td>\n",
       "      <td>227</td>\n",
       "      <td>14610.146404</td>\n",
       "      <td>14.597139</td>\n",
       "      <td>1.0</td>\n",
       "      <td>...</td>\n",
       "      <td>0.0</td>\n",
       "      <td>0.0</td>\n",
       "      <td>0.0</td>\n",
       "      <td>1.0</td>\n",
       "      <td>0.0</td>\n",
       "      <td>0.0</td>\n",
       "      <td>0.0</td>\n",
       "      <td>0.0</td>\n",
       "      <td>0.0</td>\n",
       "      <td>0.0</td>\n",
       "    </tr>\n",
       "    <tr>\n",
       "      <th>4</th>\n",
       "      <td>5</td>\n",
       "      <td>11.604015</td>\n",
       "      <td>45.884082</td>\n",
       "      <td>22.550347</td>\n",
       "      <td>4.443800</td>\n",
       "      <td>0.919696</td>\n",
       "      <td>371</td>\n",
       "      <td>13207.367028</td>\n",
       "      <td>4.488238</td>\n",
       "      <td>0.0</td>\n",
       "      <td>...</td>\n",
       "      <td>0.0</td>\n",
       "      <td>0.0</td>\n",
       "      <td>0.0</td>\n",
       "      <td>1.0</td>\n",
       "      <td>0.0</td>\n",
       "      <td>0.0</td>\n",
       "      <td>0.0</td>\n",
       "      <td>0.0</td>\n",
       "      <td>0.0</td>\n",
       "      <td>0.0</td>\n",
       "    </tr>\n",
       "    <tr>\n",
       "      <th>...</th>\n",
       "      <td>...</td>\n",
       "      <td>...</td>\n",
       "      <td>...</td>\n",
       "      <td>...</td>\n",
       "      <td>...</td>\n",
       "      <td>...</td>\n",
       "      <td>...</td>\n",
       "      <td>...</td>\n",
       "      <td>...</td>\n",
       "      <td>...</td>\n",
       "      <td>...</td>\n",
       "      <td>...</td>\n",
       "      <td>...</td>\n",
       "      <td>...</td>\n",
       "      <td>...</td>\n",
       "      <td>...</td>\n",
       "      <td>...</td>\n",
       "      <td>...</td>\n",
       "      <td>...</td>\n",
       "      <td>...</td>\n",
       "      <td>...</td>\n",
       "    </tr>\n",
       "    <tr>\n",
       "      <th>95</th>\n",
       "      <td>96</td>\n",
       "      <td>15.666214</td>\n",
       "      <td>46.938743</td>\n",
       "      <td>8.069421</td>\n",
       "      <td>21.174091</td>\n",
       "      <td>0.567174</td>\n",
       "      <td>314</td>\n",
       "      <td>6527.254647</td>\n",
       "      <td>21.385831</td>\n",
       "      <td>0.0</td>\n",
       "      <td>...</td>\n",
       "      <td>1.0</td>\n",
       "      <td>1.0</td>\n",
       "      <td>0.0</td>\n",
       "      <td>0.0</td>\n",
       "      <td>0.0</td>\n",
       "      <td>0.0</td>\n",
       "      <td>0.0</td>\n",
       "      <td>0.0</td>\n",
       "      <td>0.0</td>\n",
       "      <td>0.0</td>\n",
       "    </tr>\n",
       "    <tr>\n",
       "      <th>96</th>\n",
       "      <td>97</td>\n",
       "      <td>45.652078</td>\n",
       "      <td>5.627821</td>\n",
       "      <td>22.006588</td>\n",
       "      <td>9.834895</td>\n",
       "      <td>0.828990</td>\n",
       "      <td>357</td>\n",
       "      <td>6219.367402</td>\n",
       "      <td>9.933244</td>\n",
       "      <td>0.0</td>\n",
       "      <td>...</td>\n",
       "      <td>0.0</td>\n",
       "      <td>1.0</td>\n",
       "      <td>0.0</td>\n",
       "      <td>0.0</td>\n",
       "      <td>0.0</td>\n",
       "      <td>0.0</td>\n",
       "      <td>0.0</td>\n",
       "      <td>0.0</td>\n",
       "      <td>0.0</td>\n",
       "      <td>0.0</td>\n",
       "    </tr>\n",
       "    <tr>\n",
       "      <th>97</th>\n",
       "      <td>98</td>\n",
       "      <td>30.815577</td>\n",
       "      <td>15.546294</td>\n",
       "      <td>8.583173</td>\n",
       "      <td>18.871529</td>\n",
       "      <td>0.111343</td>\n",
       "      <td>172</td>\n",
       "      <td>4523.116273</td>\n",
       "      <td>19.060244</td>\n",
       "      <td>0.0</td>\n",
       "      <td>...</td>\n",
       "      <td>1.0</td>\n",
       "      <td>1.0</td>\n",
       "      <td>0.0</td>\n",
       "      <td>0.0</td>\n",
       "      <td>0.0</td>\n",
       "      <td>0.0</td>\n",
       "      <td>0.0</td>\n",
       "      <td>0.0</td>\n",
       "      <td>0.0</td>\n",
       "      <td>0.0</td>\n",
       "    </tr>\n",
       "    <tr>\n",
       "      <th>98</th>\n",
       "      <td>99</td>\n",
       "      <td>5.129165</td>\n",
       "      <td>32.755026</td>\n",
       "      <td>49.226770</td>\n",
       "      <td>13.022966</td>\n",
       "      <td>0.705223</td>\n",
       "      <td>407</td>\n",
       "      <td>9097.427898</td>\n",
       "      <td>13.153196</td>\n",
       "      <td>1.0</td>\n",
       "      <td>...</td>\n",
       "      <td>0.0</td>\n",
       "      <td>1.0</td>\n",
       "      <td>0.0</td>\n",
       "      <td>0.0</td>\n",
       "      <td>0.0</td>\n",
       "      <td>0.0</td>\n",
       "      <td>0.0</td>\n",
       "      <td>0.0</td>\n",
       "      <td>0.0</td>\n",
       "      <td>0.0</td>\n",
       "    </tr>\n",
       "    <tr>\n",
       "      <th>99</th>\n",
       "      <td>100</td>\n",
       "      <td>32.771521</td>\n",
       "      <td>47.705734</td>\n",
       "      <td>13.172578</td>\n",
       "      <td>13.753319</td>\n",
       "      <td>0.718127</td>\n",
       "      <td>555</td>\n",
       "      <td>22653.257435</td>\n",
       "      <td>13.890852</td>\n",
       "      <td>0.0</td>\n",
       "      <td>...</td>\n",
       "      <td>0.0</td>\n",
       "      <td>0.0</td>\n",
       "      <td>0.0</td>\n",
       "      <td>0.0</td>\n",
       "      <td>1.0</td>\n",
       "      <td>0.0</td>\n",
       "      <td>0.0</td>\n",
       "      <td>0.0</td>\n",
       "      <td>0.0</td>\n",
       "      <td>0.0</td>\n",
       "    </tr>\n",
       "  </tbody>\n",
       "</table>\n",
       "<p>100 rows × 21 columns</p>\n",
       "</div>"
      ],
      "text/plain": [
       "    ID do Produto  Altura(cm)  Largura(cm)  Profundidade(cm)  \\\n",
       "0               1   23.765990    19.699021         47.757925   \n",
       "1               2   37.414602    28.717615         30.049393   \n",
       "2               3    5.005147    44.867394         46.202286   \n",
       "3               4   18.604966    21.077139         33.870479   \n",
       "4               5   11.604015    45.884082         22.550347   \n",
       "..            ...         ...          ...               ...   \n",
       "95             96   15.666214    46.938743          8.069421   \n",
       "96             97   45.652078     5.627821         22.006588   \n",
       "97             98   30.815577    15.546294          8.583173   \n",
       "98             99    5.129165    32.755026         49.226770   \n",
       "99            100   32.771521    47.705734         13.172578   \n",
       "\n",
       "    Peso do Produto(kg)  Custo por Unidade de Material  Volume de Vendas  \\\n",
       "0             20.390538                       0.984176               567   \n",
       "1             21.936560                       0.339975               395   \n",
       "2             17.366125                       0.580288               966   \n",
       "3             14.452613                       0.383020               227   \n",
       "4              4.443800                       0.919696               371   \n",
       "..                  ...                            ...               ...   \n",
       "95            21.174091                       0.567174               314   \n",
       "96             9.834895                       0.828990               357   \n",
       "97            18.871529                       0.111343               172   \n",
       "98            13.022966                       0.705223               407   \n",
       "99            13.753319                       0.718127               555   \n",
       "\n",
       "    Volume_Produto_Ideal(cm3)  Peso_Total  Material de Embalagem_Isopor  ...  \\\n",
       "0                24594.538940   20.594443                           0.0  ...   \n",
       "1                35515.496513   22.155926                           0.0  ...   \n",
       "2                11413.105253   17.539786                           0.0  ...   \n",
       "3                14610.146404   14.597139                           1.0  ...   \n",
       "4                13207.367028    4.488238                           0.0  ...   \n",
       "..                        ...         ...                           ...  ...   \n",
       "95                6527.254647   21.385831                           0.0  ...   \n",
       "96                6219.367402    9.933244                           0.0  ...   \n",
       "97                4523.116273   19.060244                           0.0  ...   \n",
       "98                9097.427898   13.153196                           1.0  ...   \n",
       "99               22653.257435   13.890852                           0.0  ...   \n",
       "\n",
       "    Material de Embalagem_Plástico  Caixa_Ideal_Bin_1  Caixa_Ideal_Bin_10  \\\n",
       "0                              0.0                0.0                 0.0   \n",
       "1                              0.0                0.0                 0.0   \n",
       "2                              1.0                0.0                 0.0   \n",
       "3                              0.0                0.0                 0.0   \n",
       "4                              0.0                0.0                 0.0   \n",
       "..                             ...                ...                 ...   \n",
       "95                             1.0                1.0                 0.0   \n",
       "96                             0.0                1.0                 0.0   \n",
       "97                             1.0                1.0                 0.0   \n",
       "98                             0.0                1.0                 0.0   \n",
       "99                             0.0                0.0                 0.0   \n",
       "\n",
       "    Caixa_Ideal_Bin_2  Caixa_Ideal_Bin_3  Caixa_Ideal_Bin_4  \\\n",
       "0                 0.0                1.0                0.0   \n",
       "1                 0.0                0.0                1.0   \n",
       "2                 1.0                0.0                0.0   \n",
       "3                 1.0                0.0                0.0   \n",
       "4                 1.0                0.0                0.0   \n",
       "..                ...                ...                ...   \n",
       "95                0.0                0.0                0.0   \n",
       "96                0.0                0.0                0.0   \n",
       "97                0.0                0.0                0.0   \n",
       "98                0.0                0.0                0.0   \n",
       "99                0.0                1.0                0.0   \n",
       "\n",
       "    Caixa_Ideal_Bin_5  Caixa_Ideal_Bin_6  Caixa_Ideal_Bin_7  Caixa_Ideal_Bin_8  \n",
       "0                 0.0                0.0                0.0                0.0  \n",
       "1                 0.0                0.0                0.0                0.0  \n",
       "2                 0.0                0.0                0.0                0.0  \n",
       "3                 0.0                0.0                0.0                0.0  \n",
       "4                 0.0                0.0                0.0                0.0  \n",
       "..                ...                ...                ...                ...  \n",
       "95                0.0                0.0                0.0                0.0  \n",
       "96                0.0                0.0                0.0                0.0  \n",
       "97                0.0                0.0                0.0                0.0  \n",
       "98                0.0                0.0                0.0                0.0  \n",
       "99                0.0                0.0                0.0                0.0  \n",
       "\n",
       "[100 rows x 21 columns]"
      ]
     },
     "execution_count": 16,
     "metadata": {},
     "output_type": "execute_result"
    }
   ],
   "source": [
    "categorical_columns = ['Material de Embalagem','Caixa_Ideal']\n",
    "\n",
    "encoder = OneHotEncoder(sparse_output=False)\n",
    "\n",
    "encoded_values = encoder.fit_transform(df[categorical_columns])\n",
    "encoded_df = pd.DataFrame(encoded_values, columns=encoder.get_feature_names_out(categorical_columns))\n",
    "\n",
    "df_encoded = pd.concat([df.drop(columns=categorical_columns), encoded_df], axis=1)\n",
    "\n",
    "df_encoded"
   ]
  },
  {
   "cell_type": "markdown",
   "metadata": {},
   "source": [
    "## Train/Test Split"
   ]
  },
  {
   "cell_type": "code",
   "execution_count": 17,
   "metadata": {},
   "outputs": [],
   "source": [
    "X = df_encoded.drop(columns='Volume_Produto_Ideal(cm3)')\n",
    "y = df_encoded['Volume_Produto_Ideal(cm3)']\n",
    "\n",
    "X_train, X_test, y_train, y_test = train_test_split(X, y, test_size=0.2, random_state=42)"
   ]
  },
  {
   "cell_type": "markdown",
   "metadata": {},
   "source": [
    "## Modelo"
   ]
  },
  {
   "cell_type": "markdown",
   "metadata": {},
   "source": [
    "**Linear Regression**"
   ]
  },
  {
   "cell_type": "code",
   "execution_count": 23,
   "metadata": {},
   "outputs": [
    {
     "name": "stdout",
     "output_type": "stream",
     "text": [
      "Mean Absolute Error (Cross-Validation): 2265.88995903406\n",
      "Mean Absolute Error (Linear Regression): 1970.6599804829427\n"
     ]
    }
   ],
   "source": [
    "linear = LinearRegression()\n",
    "linear.fit(X_train, y_train)\n",
    "\n",
    "y_pred = linear.predict(X_test)\n",
    "kf = KFold(n_splits=5, shuffle=True, random_state=42)\n",
    "\n",
    "mae = mean_absolute_error(y_test, y_pred)\n",
    "scores = cross_val_score(linear, X_train, y_train, cv=kf, scoring='neg_mean_absolute_error')\n",
    "\n",
    "print(f'Mean Absolute Error (Cross-Validation): {-scores.mean()}')\n",
    "print(f'Mean Absolute Error (Linear Regression): {mae}')"
   ]
  },
  {
   "cell_type": "markdown",
   "metadata": {},
   "source": [
    "**RandomForest**"
   ]
  },
  {
   "cell_type": "code",
   "execution_count": 22,
   "metadata": {},
   "outputs": [
    {
     "name": "stdout",
     "output_type": "stream",
     "text": [
      "Mean Absolute Error (Cross-Validation): 5415.410106341257\n",
      "Mean Absolute Error: 2272.8054356228276cm3\n"
     ]
    }
   ],
   "source": [
    "rf = RandomForestRegressor()\n",
    "rf.fit(X_train, y_train)\n",
    "\n",
    "y_pred = rf.predict(X_test)\n",
    "kf = KFold(n_splits=5, shuffle=True, random_state=42)\n",
    "\n",
    "mae = mean_absolute_error(y_test, y_pred)\n",
    "scores = cross_val_score(rf, X_train, y_train, cv=kf, scoring='neg_mean_absolute_error')\n",
    "\n",
    "print(f'Mean Absolute Error (Cross-Validation): {-scores.mean()}')\n",
    "print(f'Mean Absolute Error: {mae}cm3')"
   ]
  },
  {
   "cell_type": "markdown",
   "metadata": {},
   "source": [
    "**XGB**"
   ]
  },
  {
   "cell_type": "code",
   "execution_count": 26,
   "metadata": {},
   "outputs": [
    {
     "name": "stdout",
     "output_type": "stream",
     "text": [
      "Mean Absolute Error (Cross-Validation): 3058.984372607457\n",
      "Mean Absolute Error: 1751.3212330029394cm3\n"
     ]
    }
   ],
   "source": [
    "xgb = XGBRegressor(n_estimators=1000, learning_rate=0.05)\n",
    "xgb.fit(X_train, y_train)\n",
    "\n",
    "y_pred = xgb.predict(X_test)\n",
    "kf = KFold(n_splits=5, shuffle=True, random_state=42)\n",
    "\n",
    "scores = cross_val_score(xgb, X_train, y_train, cv=kf, scoring='neg_mean_absolute_error')\n",
    "mae = mean_absolute_error(y_test, y_pred)\n",
    "\n",
    "print(f'Mean Absolute Error (Cross-Validation): {-scores.mean()}')\n",
    "print(f'Mean Absolute Error: {mae}cm3')"
   ]
  },
  {
   "cell_type": "markdown",
   "metadata": {},
   "source": [
    "## Deploy do Melhor Modelo"
   ]
  },
  {
   "cell_type": "code",
   "execution_count": 30,
   "metadata": {},
   "outputs": [
    {
     "data": {
      "text/plain": [
       "['./Modelo/xgb_model.pkl']"
      ]
     },
     "execution_count": 30,
     "metadata": {},
     "output_type": "execute_result"
    }
   ],
   "source": [
    "joblib.dump(xgb, './API/models/xgb_model.pkl')"
   ]
  }
 ],
 "metadata": {
  "kernelspec": {
   "display_name": "turing",
   "language": "python",
   "name": "python3"
  },
  "language_info": {
   "codemirror_mode": {
    "name": "ipython",
    "version": 3
   },
   "file_extension": ".py",
   "mimetype": "text/x-python",
   "name": "python",
   "nbconvert_exporter": "python",
   "pygments_lexer": "ipython3",
   "version": "3.12.4"
  }
 },
 "nbformat": 4,
 "nbformat_minor": 2
}
